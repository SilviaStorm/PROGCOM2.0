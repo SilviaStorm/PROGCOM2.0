{
  "nbformat": 4,
  "nbformat_minor": 0,
  "metadata": {
    "colab": {
      "provenance": []
    },
    "kernelspec": {
      "name": "python3",
      "display_name": "Python 3"
    },
    "language_info": {
      "name": "python"
    }
  },
  "cells": [
    {
      "cell_type": "markdown",
      "source": [
        "##Funciones\n",
        "\n",
        "def(nombre cualquiera)():\n",
        "\n",
        "Lo que va dentro de la función"
      ],
      "metadata": {
        "id": "5HFteDXR3dCa"
      }
    },
    {
      "cell_type": "markdown",
      "source": [
        "Tipos de funciones\n",
        "\n",
        "1. Sin parámetros, sin retorno\n",
        "def manuel ():\n",
        "  print (\"Toma tu 5\")\n",
        "\n",
        "2. Sin parámetros, con retorno\n",
        "def nicolas():\n",
        "  print(\"Hola Nicolás\")\n",
        "\n",
        "  a=5\n",
        "  return a\n",
        "3. Con parámetros, sin retorno \n",
        "def holitas(\"a\", \"b\", x=False):\n",
        "  int a\n",
        "  b= string\n",
        "  x=boolean\n",
        "  print(\"Hola Nicolás\")\n",
        "  \n",
        "  a=5\n",
        "4. Con parámetros, sin retorno \n",
        "def holitas(\"a\", \"b\", x=False):\n",
        "  int a\n",
        "  b= string\n",
        "  x=boolean\n",
        "  print(\"Hola Nicolás\")\n",
        "  \n",
        "  a=5\n",
        "  retorn a"
      ],
      "metadata": {
        "id": "itMvp2871Few"
      }
    },
    {
      "cell_type": "code",
      "execution_count": null,
      "metadata": {
        "id": "ADtttTOA09rc"
      },
      "outputs": [],
      "source": [
        "def salude():\n",
        "  print(\"Saludar\")\n",
        "  print(\"Es de cracks\")"
      ]
    },
    {
      "cell_type": "code",
      "source": [
        "salude()\n"
      ],
      "metadata": {
        "colab": {
          "base_uri": "https://localhost:8080/"
        },
        "id": "fT_6SSBc4z-P",
        "outputId": "e393d0b9-f86c-4a08-cfbf-47c32df8518c"
      },
      "execution_count": null,
      "outputs": [
        {
          "output_type": "stream",
          "name": "stdout",
          "text": [
            "Saludar\n",
            "Es de cracks\n"
          ]
        }
      ]
    },
    {
      "cell_type": "code",
      "source": [
        "a=int(input(\"ingrese un número\"))\n",
        "b=int(input(\"ingrese un número\"))\n",
        "c=int(input(\"ingrese un número\"))\n",
        "\n",
        "if a!=b and a!=c and b!=c:\n",
        "  if a>b and a>c:\n",
        "    if b>c:\n",
        "      print (a, \"es el valor mayor\")\n",
        "      print (b, \"es el valor medio\")\n",
        "      print (c, \"es el valor menor\")\n",
        "    else:\n",
        "      print (a, \"es el valor mayor\")\n",
        "      print (c, \"es el valor medio\")\n",
        "      print (b, \"es el valor menor\")\n",
        "  elif b>a and b>c :\n",
        "    if a>c:\n",
        "      print (a, \"es el valor mayor\")\n",
        "      print (b, \"es el valor medio\")\n",
        "      print (c, \"es el valor menor\")\n",
        "    else:\n",
        "      print (a, \"es el valor mayor\")\n",
        "      print (c, \"es el valor medio\")\n",
        "      print (b, \"es el valor menor\")\n",
        "else:\n",
        "  print(\"No se puede \")"
      ],
      "metadata": {
        "id": "Nr-iBiu_5ArX"
      },
      "execution_count": null,
      "outputs": []
    },
    {
      "cell_type": "code",
      "source": [
        "#Funciones sin parámteros con retorno\n",
        "def imprimir(a,b,c):\n",
        "  print (a, \" es el valor mayor\")\n",
        "  print (b, \" es el valor medio\")\n",
        "  print (c, \" es el valor menor\")"
      ],
      "metadata": {
        "id": "QoCdepLG62_U"
      },
      "execution_count": null,
      "outputs": []
    },
    {
      "cell_type": "code",
      "source": [
        "a=int(input(\"ingrese un número\"))\n",
        "b=int(input(\"ingrese un número\"))\n",
        "c=int(input(\"ingrese un número\"))\n",
        "\n",
        "if a!=b and a!=c and b!=c:\n",
        "  if a>b and a>c:\n",
        "    if b>c:\n",
        "      imprimir(a,b,c)\n",
        "    else:\n",
        "      imprimir(a,c,b)\n",
        "  elif b>a and b>c :\n",
        "    if a>c:\n",
        "      imprimir(b,a,c)\n",
        "    else:\n",
        "      imprimir(b,c,a)\n",
        "  if c>a and c>b:\n",
        "    if a>b:\n",
        "      imprimir(c,a,b)\n",
        "    else:\n",
        "     imprimir(c,b,a) \n",
        "else:\n",
        "  print(\"No puedo Martha\")\n"
      ],
      "metadata": {
        "id": "xjzE7Rr98vjP",
        "colab": {
          "base_uri": "https://localhost:8080/"
        },
        "outputId": "fb803a01-59f8-4cbb-9cc1-cde30c1dab37"
      },
      "execution_count": null,
      "outputs": [
        {
          "output_type": "stream",
          "name": "stdout",
          "text": [
            "ingrese un número3\n",
            "ingrese un número3\n",
            "ingrese un número3\n",
            "No puedo Martha\n"
          ]
        }
      ]
    },
    {
      "cell_type": "code",
      "source": [
        "def imprimir (a,b,c):\n",
        "  print (a, \" es el valor mayor\")\n",
        "  print (b, \" es el valor medio\")\n",
        "  print (c, \" es el valor menor\")"
      ],
      "metadata": {
        "id": "ig8ApLlEEg7M"
      },
      "execution_count": null,
      "outputs": []
    },
    {
      "cell_type": "code",
      "source": [
        "def comparar (a,b,c):\n",
        "  if a!=b and a!=c and b!=c:\n",
        "    if a>b and a>c:\n",
        "      if b>c:\n",
        "        imprimir(a,b,c)\n",
        "      else:\n",
        "        imprimir(a,c,b)\n",
        "     elif b>a and b>c :\n",
        "      if a>c:\n",
        "        imprimir(b,a,c)\n",
        "     else:\n",
        "        imprimir(b,c,a)\n",
        "  if c>a and c>b:\n",
        "      if a>b:\n",
        "       imprimir(c,a,b)\n",
        "     else:\n",
        "      imprimir(c,b,a) \n",
        "  else:\n",
        "   print(\"No puedo Martha\")\n"
      ],
      "metadata": {
        "id": "r0iJbPs9A97u"
      },
      "execution_count": null,
      "outputs": []
    },
    {
      "cell_type": "code",
      "source": [],
      "metadata": {
        "id": "dBHogR8PLLir"
      },
      "execution_count": null,
      "outputs": []
    },
    {
      "cell_type": "code",
      "source": [
        "def imprimir (a,b):\n",
        "  print(a, \" es vocal\")\n",
        "  print(b, \" es consonante\")\n"
      ],
      "metadata": {
        "id": "73zSxoA8LMLq"
      },
      "execution_count": 19,
      "outputs": []
    },
    {
      "cell_type": "code",
      "source": [
        "a=str(input(\"ingrese una letra\"))\n",
        "b=str(input(\"ingrese una letra\"))\n",
        "if a==\"a\" or \"e\" or \"i\" or \"o\" or \"u\":\n",
        "  imprimir (a,b)\n",
        "else:\n",
        "  imprimir (b,a)"
      ],
      "metadata": {
        "colab": {
          "base_uri": "https://localhost:8080/"
        },
        "id": "vc_MrQIpLfbb",
        "outputId": "27b35a5d-c302-462b-faaf-4ffdebed17c9"
      },
      "execution_count": 22,
      "outputs": [
        {
          "output_type": "stream",
          "name": "stdout",
          "text": [
            "ingrese una letraa\n",
            "ingrese una letraf\n",
            "a  es vocal\n",
            "f  es consonante\n"
          ]
        }
      ]
    }
  ]
}