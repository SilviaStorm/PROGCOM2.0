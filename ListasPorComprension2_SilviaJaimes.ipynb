{
  "nbformat": 4,
  "nbformat_minor": 0,
  "metadata": {
    "colab": {
      "provenance": [],
      "collapsed_sections": []
    },
    "kernelspec": {
      "name": "python3",
      "display_name": "Python 3"
    },
    "language_info": {
      "name": "python"
    }
  },
  "cells": [
    {
      "cell_type": "markdown",
      "source": [
        "#Lista por comprensión"
      ],
      "metadata": {
        "id": "Ky5kzuQo_EbD"
      }
    },
    {
      "cell_type": "markdown",
      "source": [
        "##sintaxis:newList = [expresión(elemento) for elemento n in oldList si condición]\n",
        "##Esto tecnicamente es colocar primero la expresión u operación y luego la condición."
      ],
      "metadata": {
        "id": "GTU1nk_MAD_s"
      }
    },
    {
      "cell_type": "code",
      "execution_count": null,
      "metadata": {
        "colab": {
          "base_uri": "https://localhost:8080/"
        },
        "id": "3CFrYfeB9vix",
        "outputId": "3a35d002-bb0d-482f-fcc3-686369d769ba"
      },
      "outputs": [
        {
          "output_type": "stream",
          "name": "stdout",
          "text": [
            "[2, 4, 6, 8, 10, 12, 14, 16]\n"
          ]
        }
      ],
      "source": [
        "números=[n*2 for n in range(1,9)]\n",
        "print(números)"
      ]
    },
    {
      "cell_type": "markdown",
      "source": [
        "##Ventajas:\n",
        "##Más eficiente en tiempo y espacio que los bucles.\n",
        "\n",
        "##Requiere menos líneas de código.\n",
        "##Transforma una declaración iterativa en una formula"
      ],
      "metadata": {
        "id": "LBNtLxAWAqij"
      }
    },
    {
      "cell_type": "code",
      "source": [
        "c=[\"* \" * n for n in range (1,6)]\n",
        "print(c)"
      ],
      "metadata": {
        "colab": {
          "base_uri": "https://localhost:8080/"
        },
        "id": "zqV45-V1BIrg",
        "outputId": "14c83bae-7ea7-4f90-c382-c782234fcd96"
      },
      "execution_count": null,
      "outputs": [
        {
          "output_type": "stream",
          "name": "stdout",
          "text": [
            "['* ', '* * ', '* * * ', '* * * * ', '* * * * * ']\n"
          ]
        }
      ]
    },
    {
      "cell_type": "code",
      "source": [
        "nu=[2,5,6,9,10]\n",
        "c=[(n**2) for n in nu]\n",
        "print(c)"
      ],
      "metadata": {
        "colab": {
          "base_uri": "https://localhost:8080/"
        },
        "id": "Rdv7zy3rCYDw",
        "outputId": "bd551b82-dcba-4c50-87f7-05ad02379751"
      },
      "execution_count": null,
      "outputs": [
        {
          "output_type": "stream",
          "name": "stdout",
          "text": [
            "[4, 25, 36, 81, 100]\n"
          ]
        }
      ]
    },
    {
      "cell_type": "code",
      "source": [
        "cadena=\"programación\"\n",
        "letras=[]\n",
        "for letra in cadena:\n",
        "  letras.append(letra)\n",
        "print(letras)"
      ],
      "metadata": {
        "colab": {
          "base_uri": "https://localhost:8080/"
        },
        "id": "15NLeclYF2o3",
        "outputId": "596cd165-9187-44c5-ddde-939635a3010e"
      },
      "execution_count": null,
      "outputs": [
        {
          "output_type": "stream",
          "name": "stdout",
          "text": [
            "['p', 'r', 'o', 'g', 'r', 'a', 'm', 'a', 'c', 'i', 'ó', 'n']\n"
          ]
        }
      ]
    },
    {
      "cell_type": "code",
      "source": [
        "cadena=\"python\"\n",
        "letras=[letra for letra in cadena]\n",
        "\n",
        "print(letras)"
      ],
      "metadata": {
        "colab": {
          "base_uri": "https://localhost:8080/"
        },
        "id": "SOOct9mrDLIP",
        "outputId": "1f41c29b-ee01-4371-d7ab-0ddf8f022c7c"
      },
      "execution_count": null,
      "outputs": [
        {
          "output_type": "stream",
          "name": "stdout",
          "text": [
            "['p', 'y', 't', 'h', 'o', 'n']\n"
          ]
        }
      ]
    },
    {
      "cell_type": "code",
      "source": [
        "x=input(\"Ingrese la palabra que desee: \")\n",
        "lista=[n for n in x]\n",
        "print(lista)"
      ],
      "metadata": {
        "colab": {
          "base_uri": "https://localhost:8080/"
        },
        "id": "7J0nVmgKC5v_",
        "outputId": "fa3f2d71-1ef8-43da-9444-e600a5f1b6f6"
      },
      "execution_count": null,
      "outputs": [
        {
          "output_type": "stream",
          "name": "stdout",
          "text": [
            "Ingrese la palabra que desee: holi\n",
            "['h', 'o', 'l', 'i']\n"
          ]
        }
      ]
    },
    {
      "cell_type": "code",
      "source": [
        "lista1=[2,7,10,9,8]\n",
        "lista2=[elementos**2 for elementos in lista1 if elementos%2==0]\n",
        "print(\"nueva lista\", lista2)"
      ],
      "metadata": {
        "colab": {
          "base_uri": "https://localhost:8080/"
        },
        "id": "SFitSQxrD30E",
        "outputId": "f7bbd452-1316-4669-8b3f-f427ada4e5a8"
      },
      "execution_count": null,
      "outputs": [
        {
          "output_type": "stream",
          "name": "stdout",
          "text": [
            "nueva lista [4, 100, 64]\n"
          ]
        }
      ]
    },
    {
      "cell_type": "code",
      "source": [
        "import random \n",
        "\n",
        "capitan=[random.randrange(1,30) for i in range(9)]\n",
        "#randrange:rango donde se va a generar la lista\n",
        "print(\"Imprimir números aleatorios de la lista: \" ,str(capitan))\n"
      ],
      "metadata": {
        "colab": {
          "base_uri": "https://localhost:8080/"
        },
        "id": "xkVlWa8pD4Qb",
        "outputId": "806cafc0-ae4d-4979-8ae2-7b1f935e10c8"
      },
      "execution_count": null,
      "outputs": [
        {
          "output_type": "stream",
          "name": "stdout",
          "text": [
            "Imprimir números aleatorios de la lista:  [28, 2, 27, 22, 22, 6, 28, 19, 20]\n"
          ]
        }
      ]
    },
    {
      "cell_type": "code",
      "source": [
        "precios=[]\n",
        "print(\"ingrese los números de los que quieres hacer un descuento\")\n",
        "det=True\n",
        "while det:\n",
        "  num=int(input(\"si no desea agregar más números digite 0\"))\n",
        "  precios.append(num)\n",
        "  det=False if num==0 else num>0\n",
        "des=float(input(print(\"ingrese el descuento sin el %\")))\n",
        "presdes=[precio*des/100 for precio in precios]\n",
        "presdes.pop(-1)\n",
        "print(\"  este es el valor que le debes restar a cada número \" ,presdes)"
      ],
      "metadata": {
        "colab": {
          "base_uri": "https://localhost:8080/"
        },
        "id": "0MkRZicIFq5A",
        "outputId": "32b4397b-6e31-4475-a475-2924ecf86951"
      },
      "execution_count": null,
      "outputs": [
        {
          "output_type": "stream",
          "name": "stdout",
          "text": [
            "ingrese los números de los que quieres hacer un descuento\n",
            "si no desea agregar m´´as números digite 00\n",
            "ingrese el descuento sin el %\n",
            "None40\n",
            "  este es el valor que le debes restar a cada número  []\n"
          ]
        }
      ]
    },
    {
      "cell_type": "code",
      "source": [
        "##Tradicional\n",
        "n=int(input(\"Ingrese un número de palabras que desea ingresar\"))\n",
        "lista=[]\n",
        "for i in range(n):\n",
        "  l=input(\" Ingrese la palabra\")\n",
        "  if l.upper():lista.append(l)\n",
        "\n",
        "  "
      ],
      "metadata": {
        "colab": {
          "base_uri": "https://localhost:8080/"
        },
        "id": "5Lv-dbP5wCld",
        "outputId": "2bdefb98-33dc-475b-e36d-8fa302021896"
      },
      "execution_count": null,
      "outputs": [
        {
          "name": "stdout",
          "output_type": "stream",
          "text": [
            "Ingrese un número de palabras que desea ingresar3\n",
            " Ingrese la palabrajumm\n",
            " Ingrese la palabrasuspisius\n",
            " Ingrese la palabrajii\n"
          ]
        }
      ]
    },
    {
      "cell_type": "code",
      "source": [
        "lista"
      ],
      "metadata": {
        "colab": {
          "base_uri": "https://localhost:8080/"
        },
        "id": "SpuYI4-JzwF2",
        "outputId": "de2beff5-eccc-4b96-99bb-7fd2bfe7838c"
      },
      "execution_count": null,
      "outputs": [
        {
          "output_type": "execute_result",
          "data": {
            "text/plain": [
              "['jumm', 'suspisius', 'jii']"
            ]
          },
          "metadata": {},
          "execution_count": 4
        }
      ]
    },
    {
      "cell_type": "code",
      "source": [
        "##Comprensión\n",
        "\n",
        "n=int(input(\"Ingrese un número de palabras que desea ingresar\"))\n",
        "lista=[]\n",
        "for i in range(n):\n",
        "  l=input(\"Ingresa la palabra\")\n",
        "  lista.append(l)\n",
        "\n",
        "lista_comprimida_M=[elemento for elemento in lista if elemento.isupper()]\n",
        "lista_comprimida_m=[elemento for elemento in lista if elemento.islower()]\n",
        "\n",
        "print(\"las palabras escritas en mayúscula son: \")\n",
        "print(lista_comprimida_M)\n",
        "print(\"las palabras escritas en minúscula son: \")\n",
        "print(lista_comprimida_m)"
      ],
      "metadata": {
        "colab": {
          "base_uri": "https://localhost:8080/"
        },
        "id": "8an3Sh891gB7",
        "outputId": "dd2c328b-a7c1-4fb0-e33c-7ec1acf87e08"
      },
      "execution_count": null,
      "outputs": [
        {
          "output_type": "stream",
          "name": "stdout",
          "text": [
            "Ingrese un número de palabras que desea ingresar3\n",
            "Ingresa la palabraJKASJKAJS\n",
            "Ingresa la palabrajiiii\n",
            "Ingresa la palabralol\n",
            "las palabras escritas en mayuscula son: \n",
            "['JKASJKAJS']\n",
            "las palabras escritas en minuscula son: \n",
            "['jiiii', 'lol']\n"
          ]
        }
      ]
    },
    {
      "cell_type": "code",
      "source": [
        "##lambda\n",
        "\n",
        "n=int(input(\"Ingrese un número de palabras que desea ingresar\"))\n",
        "lista2=[]\n",
        "for i in range(n):\n",
        "  l=input(\"Ingresa la palabra\")\n",
        "  lista2.append(l)\n",
        "\n",
        "lista2_comprimida_M=list((map(lambda elemento:True if elemento.isupper()else False,lista2)))  \n",
        "lista2_comprimida_m=list((map(lambda elemento:True if elemento.lower()else False,lista2)))  \n",
        "\n",
        "print(\"las palabras escritas en mayuscula son: \")\n",
        "print(lista2_comprimida_M)\n",
        "print(\"las palabras escritas en minuscula son: \")\n",
        "print(lista2_comprimida_m)"
      ],
      "metadata": {
        "id": "Lee_oSd66tF8"
      },
      "execution_count": null,
      "outputs": []
    },
    {
      "cell_type": "code",
      "source": [
        "##Tradicional\n",
        "\n",
        "def pali(word):\n",
        "  rev=word[::-1]\n",
        "  return word==rev\n",
        "word=(input(\"Digita una palabra\")).lower()\n",
        "final=pali(word)\n",
        "if final==True:\n",
        "  print(f\"{word} es una apalbra palindroma\")\n",
        "else:\n",
        "  print(f\"{word} no es una apalbra palindroma\")"
      ],
      "metadata": {
        "colab": {
          "base_uri": "https://localhost:8080/"
        },
        "id": "npojcIiX6uND",
        "outputId": "31303198-ba95-4061-f138-0ad15c3cc5cf"
      },
      "execution_count": null,
      "outputs": [
        {
          "output_type": "stream",
          "name": "stdout",
          "text": [
            "Digita una palabraana\n",
            "ana es una apalbra palindroma\n"
          ]
        }
      ]
    },
    {
      "cell_type": "code",
      "source": [
        "##Lambda\n",
        "\n",
        "c=int(input(\"Digita la cantidad de elementos que deseas igresar\"))\n",
        "lista1=[]\n",
        "for i in range(c):\n",
        "  word=input(\"Escribe aquí: \").lower()\n",
        "  lista1.append(word)\n",
        "print(lista1)\n",
        "lista2=list((map(lambda x:True if x==x[::-1] else False,lista1)))\n",
        "lista2"
      ],
      "metadata": {
        "colab": {
          "base_uri": "https://localhost:8080/"
        },
        "id": "1AVn_dYz8LyK",
        "outputId": "cd558dde-592b-4ff4-c950-edf42c236ec8"
      },
      "execution_count": null,
      "outputs": [
        {
          "output_type": "stream",
          "name": "stdout",
          "text": [
            "Digita la cantidad de elementos que deseas igresar1\n",
            "Escribe aquí: ana\n",
            "['ana']\n"
          ]
        },
        {
          "output_type": "execute_result",
          "data": {
            "text/plain": [
              "[True]"
            ]
          },
          "metadata": {},
          "execution_count": 15
        }
      ]
    },
    {
      "cell_type": "code",
      "source": [
        "##Tradicional \n",
        "\n",
        "import random\n",
        "stock=[\"Martillo\",\"Alicate\",\"Clavo\",\"Perno\"]\n",
        "cality=[\"Good\",\"Fail\"]\n",
        "a=[]\n",
        "\n",
        "for i in stock:\n",
        "  a.append((i,random.choice(cality)))\n",
        "  listg=[]\n",
        "  listf=[]\n",
        "\n",
        "for x in a:\n",
        "  if \"Good\" in x:\n",
        "    listg.append(x)\n",
        "    print(listg)\n",
        "  elif \"Fail\" in x:\n",
        "    listf.append(x)\n",
        "    print(listf)\n"
      ],
      "metadata": {
        "colab": {
          "base_uri": "https://localhost:8080/"
        },
        "id": "zdj_uMnp-AXJ",
        "outputId": "9f98fb66-8ab8-48cd-8ecc-471007dc8e92"
      },
      "execution_count": null,
      "outputs": [
        {
          "output_type": "stream",
          "name": "stdout",
          "text": [
            "[('Martillo', 'Good')]\n",
            "[('Martillo', 'Good'), ('Alicate', 'Good')]\n",
            "[('Martillo', 'Good'), ('Alicate', 'Good'), ('Clavo', 'Good')]\n",
            "[('Perno', 'Fail')]\n"
          ]
        }
      ]
    },
    {
      "cell_type": "code",
      "source": [
        "##Comprensión\n",
        "\n",
        "import random\n",
        "stock=[\"Martillo\",\"Alicate\",\"Clavo\",\"Perno\"]\n",
        "cality=[\"Good\",\"Fail\"]\n",
        "a=[]\n",
        "\n",
        "for i in stock:\n",
        "  a.append((i,random.choice(cality)))\n",
        "  listg=[]\n",
        "  listf=[]\n",
        "\n",
        "  listg=[x for x in a if \"Good\" in x]\n",
        "  listf=[x for x in a if \"Fail\" in x]\n",
        "\n",
        "  print(listf,listg)"
      ],
      "metadata": {
        "colab": {
          "base_uri": "https://localhost:8080/"
        },
        "id": "z8S5G6BVBbn_",
        "outputId": "99b9dd41-5c90-4af3-88f1-e3e3bd540faf"
      },
      "execution_count": null,
      "outputs": [
        {
          "output_type": "stream",
          "name": "stdout",
          "text": [
            "[('Martillo', 'Fail')] []\n",
            "[('Martillo', 'Fail')] [('Alicate', 'Good')]\n",
            "[('Martillo', 'Fail'), ('Clavo', 'Fail')] [('Alicate', 'Good')]\n",
            "[('Martillo', 'Fail'), ('Clavo', 'Fail')] [('Alicate', 'Good'), ('Perno', 'Good')]\n"
          ]
        }
      ]
    },
    {
      "cell_type": "code",
      "source": [
        "##Lambda\n",
        "\n"
      ],
      "metadata": {
        "id": "fWxhOAsVCLmy"
      },
      "execution_count": null,
      "outputs": []
    },
    {
      "cell_type": "code",
      "source": [
        "##Tradicional\n",
        "\n",
        "def capitalizar(oracion):\n",
        "  lista1=[]\n",
        "  for l in n1:\n",
        "    lista1.append(l)\n",
        "    lista1[0]=n1[0].upper()\n",
        "  print(\"\".join(lista1))"
      ],
      "metadata": {
        "id": "mKLOlrmAGpaz"
      },
      "execution_count": 28,
      "outputs": []
    },
    {
      "cell_type": "code",
      "source": [
        "n1=input(\"Ingresa una oración\")\n",
        "oracion=capitalizar(n1)\n",
        "oracion"
      ],
      "metadata": {
        "colab": {
          "base_uri": "https://localhost:8080/"
        },
        "id": "ftV6m_PHH4hv",
        "outputId": "bdf3f5d9-824f-474d-aa8e-107c6c375ca0"
      },
      "execution_count": 29,
      "outputs": [
        {
          "output_type": "stream",
          "name": "stdout",
          "text": [
            "Ingresa una oracióncasas\n",
            "Casas\n"
          ]
        }
      ]
    },
    {
      "cell_type": "code",
      "source": [
        "##Lambda\n",
        "\n",
        "n3=lambda x:x[0].upper()+x[1::]\n",
        "n=n3(n)\n",
        "n"
      ],
      "metadata": {
        "colab": {
          "base_uri": "https://localhost:8080/",
          "height": 35
        },
        "id": "els1ade-OeB6",
        "outputId": "eba2fa50-06e5-4c40-9611-5050146674e3"
      },
      "execution_count": 32,
      "outputs": [
        {
          "output_type": "execute_result",
          "data": {
            "text/plain": [
              "'Jsjs'"
            ],
            "application/vnd.google.colaboratory.intrinsic+json": {
              "type": "string"
            }
          },
          "metadata": {},
          "execution_count": 32
        }
      ]
    },
    {
      "cell_type": "code",
      "source": [
        "##Tradicional\n",
        "\n",
        "import random\n",
        "\n",
        "palabras=[\"a\",\"e\",\"i\",\"o\",\"u\"]\n",
        "numero=[1,2,3,4,5,6,7,8,9]\n",
        "generador=[]\n",
        "\n",
        "for i in range (0,5):\n",
        "  generador.append(random.choice(palabras))\n",
        "  generador.append(random.choice(numero)\n",
        "\n",
        "print(generador)"
      ],
      "metadata": {
        "id": "yK2LnSEGJY3y"
      },
      "execution_count": null,
      "outputs": []
    },
    {
      "cell_type": "code",
      "source": [
        "##Compresión\n",
        "import random\n",
        "\n",
        "x=input(\"Ingrese la palabra de la contraseña\")\n",
        "palabras=[letra for letra in x]\n",
        "numeros2=[num for num in range(0,10)]\n",
        "generador=[random.choice(palabras) or random.choice(numeros2) for num in range(0,11)]\n",
        "print(generador)"
      ],
      "metadata": {
        "colab": {
          "base_uri": "https://localhost:8080/"
        },
        "id": "EMN-Bl6cKnVg",
        "outputId": "519ceb3a-2b1a-4c09-bc14-ae6b05242d1a"
      },
      "execution_count": 30,
      "outputs": [
        {
          "output_type": "stream",
          "name": "stdout",
          "text": [
            "Ingrese la palabra de la contraseñanumeros\n",
            "['n', 's', 'r', 'r', 'n', 'e', 'o', 'n', 'o', 'u', 'n']\n"
          ]
        }
      ]
    },
    {
      "cell_type": "code",
      "source": [
        "##Lambda\n",
        "\n",
        "x=input(\"Ingrese la palabra de la contraseña\")\n",
        "palabras=[letra for letra in x]\n",
        "numeros2=[num for num in range(0,10)]\n",
        "generador2=[random.choice(list(map(lambda x:x, numeros2))) or random.choice(sorted(palabras,key=lambda letra: letra in palabras)) for num in range(1,11)]\n",
        "print(generador2)"
      ],
      "metadata": {
        "colab": {
          "base_uri": "https://localhost:8080/"
        },
        "id": "kK2nLgQILt3e",
        "outputId": "8bbb59d3-5025-412d-feea-a1d17c259c07"
      },
      "execution_count": 31,
      "outputs": [
        {
          "output_type": "stream",
          "name": "stdout",
          "text": [
            "Ingrese la palabra de la contraseñapalabras\n",
            "['b', 3, 8, 2, 1, 8, 'b', 2, 5, 5]\n"
          ]
        }
      ]
    },
    {
      "cell_type": "code",
      "source": [
        "#compresión\n",
        "print(\"¡Hola! Soy Lucía del sistema de asignación de turnos para pasaporte de la Gobernación \\n Solo las personas mayores de edad tendrán su cita mañana en el rango de 6am a 12 pm \\n y los menores de edad la tendrán en el rango de 2pm a 6pm \\n \" )\n",
        "personas=[('Pedro',33),('Ana',3),('Juan',13),('Carla',45)]\n",
        "\n",
        "\n",
        "personas_mayores=[per for per in personas if per[1]>=18]\n",
        "print(f'{personas_mayores} tendrán la cita a las 8am y 10am respectivamente')\n",
        "\n",
        "personas_menores=[per for per in personas if per[1]<18]\n",
        "print(f'{personas_menores} tendrán la cita a las 2pm y 4pm respectivamente')"
      ],
      "metadata": {
        "id": "_lxEz6TNRRSv"
      },
      "execution_count": null,
      "outputs": []
    },
    {
      "cell_type": "code",
      "source": [
        "#normal\n",
        "print(\"¡Hola! Soy Lucía del sistema de asignación de turnos para pasaporte de la Gobernación \\n Solo las personas mayores de edad tendrán su cita mañana en el rango de 6am a 12 pm \\n y los menores de edad la tendrán en el rango de 2pm a 6pm \\n \" )\n",
        "lista1=[('Pedro',33),('Ana',3),('Juan',13),('Carla',45)]\n",
        "lista2=[]\n",
        "lista3=[]\n",
        "for elemento in lista1:\n",
        "  if elemento[1]>=18:\n",
        "    lista2.append(elemento)\n",
        "print(f'{lista2} tendrán la cita a las 8am y 10am respectivamente')\n",
        "\n",
        "for elemento in lista1:\n",
        "  if elemento[1]<18:\n",
        "    lista3.append(elemento)\n",
        "print(f'{lista3} tendrán la cita a las 2pm y 4pm respectivamente')"
      ],
      "metadata": {
        "id": "4D461PYYRR7P"
      },
      "execution_count": null,
      "outputs": []
    },
    {
      "cell_type": "code",
      "source": [
        "#lambda\n",
        "print(\"¡Hola! Soy Lucía del sistema de asignación de turnos para pasaporte de la Gobernación \\n Solo las personas mayores de edad tendrán su cita mañana en el rango de 6am a 12 pm \\n y los menores de edad la tendrán en el rango de 2pm a 6pm \\n \" )\n",
        "personas=[('Pedro',33),('Ana',3),('Juan',13),('Carla',45)]\n",
        "perma=list(filter(lambda may: may[1]>=18,personas ))\n",
        "perma\n",
        "print(f'{perma} tendrán la cita a las 8am y 10am respectivamente')\n",
        "\n",
        "perme=list(filter(lambda men: men[1]<18,personas ))\n",
        "perme\n",
        "print(f'{perme} tendrán la cita a las 2pm y 4pm respectivamente')"
      ],
      "metadata": {
        "id": "zE4BpbIlRVF3"
      },
      "execution_count": null,
      "outputs": []
    }
  ]
}