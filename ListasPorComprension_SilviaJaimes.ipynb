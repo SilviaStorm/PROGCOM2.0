{
  "nbformat": 4,
  "nbformat_minor": 0,
  "metadata": {
    "colab": {
      "provenance": []
    },
    "kernelspec": {
      "name": "python3",
      "display_name": "Python 3"
    },
    "language_info": {
      "name": "python"
    }
  },
  "cells": [
    {
      "cell_type": "markdown",
      "source": [
        "#Lista por comprensión"
      ],
      "metadata": {
        "id": "Ky5kzuQo_EbD"
      }
    },
    {
      "cell_type": "markdown",
      "source": [
        "##sintaxis:newList = [expresión(elemento) for elemento n in oldList si condición]\n",
        "##Esto tecnicamente es colocar primero la expresión u operación y luego la condición."
      ],
      "metadata": {
        "id": "GTU1nk_MAD_s"
      }
    },
    {
      "cell_type": "code",
      "execution_count": 1,
      "metadata": {
        "colab": {
          "base_uri": "https://localhost:8080/"
        },
        "id": "3CFrYfeB9vix",
        "outputId": "3a35d002-bb0d-482f-fcc3-686369d769ba"
      },
      "outputs": [
        {
          "output_type": "stream",
          "name": "stdout",
          "text": [
            "[2, 4, 6, 8, 10, 12, 14, 16]\n"
          ]
        }
      ],
      "source": [
        "números=[n*2 for n in range(1,9)]\n",
        "print(números)"
      ]
    },
    {
      "cell_type": "markdown",
      "source": [
        "##Ventajas:\n",
        "##Más eficiente en tiempo y espacio que los bucles.\n",
        "\n",
        "##Requiere menos líneas de código.\n",
        "##Transforma una declaración iterativa en una formula"
      ],
      "metadata": {
        "id": "LBNtLxAWAqij"
      }
    },
    {
      "cell_type": "code",
      "source": [
        "c=[\"* \" * n for n in range (1,6)]\n",
        "print(c)"
      ],
      "metadata": {
        "colab": {
          "base_uri": "https://localhost:8080/"
        },
        "id": "zqV45-V1BIrg",
        "outputId": "14c83bae-7ea7-4f90-c382-c782234fcd96"
      },
      "execution_count": 6,
      "outputs": [
        {
          "output_type": "stream",
          "name": "stdout",
          "text": [
            "['* ', '* * ', '* * * ', '* * * * ', '* * * * * ']\n"
          ]
        }
      ]
    },
    {
      "cell_type": "code",
      "source": [
        "nu=[2,5,6,9,10]\n",
        "c=[(n**2) for n in nu]\n",
        "print(c)"
      ],
      "metadata": {
        "colab": {
          "base_uri": "https://localhost:8080/"
        },
        "id": "Rdv7zy3rCYDw",
        "outputId": "bd551b82-dcba-4c50-87f7-05ad02379751"
      },
      "execution_count": 7,
      "outputs": [
        {
          "output_type": "stream",
          "name": "stdout",
          "text": [
            "[4, 25, 36, 81, 100]\n"
          ]
        }
      ]
    },
    {
      "cell_type": "code",
      "source": [
        "cadena=\"programación\"\n",
        "letras=[]\n",
        "for letra in cadena:\n",
        "  letras.append(letra)\n",
        "print(letras)"
      ],
      "metadata": {
        "colab": {
          "base_uri": "https://localhost:8080/"
        },
        "id": "15NLeclYF2o3",
        "outputId": "596cd165-9187-44c5-ddde-939635a3010e"
      },
      "execution_count": 13,
      "outputs": [
        {
          "output_type": "stream",
          "name": "stdout",
          "text": [
            "['p', 'r', 'o', 'g', 'r', 'a', 'm', 'a', 'c', 'i', 'ó', 'n']\n"
          ]
        }
      ]
    },
    {
      "cell_type": "code",
      "source": [
        "cadena=\"python\"\n",
        "letras=[letra for letra in cadena]\n",
        "\n",
        "print(letras)"
      ],
      "metadata": {
        "colab": {
          "base_uri": "https://localhost:8080/"
        },
        "id": "SOOct9mrDLIP",
        "outputId": "1f41c29b-ee01-4371-d7ab-0ddf8f022c7c"
      },
      "execution_count": 15,
      "outputs": [
        {
          "output_type": "stream",
          "name": "stdout",
          "text": [
            "['p', 'y', 't', 'h', 'o', 'n']\n"
          ]
        }
      ]
    },
    {
      "cell_type": "code",
      "source": [
        "x=input(\"Ingrese la palabra que desee: \")\n",
        "lista=[n for n in x]\n",
        "print(lista)"
      ],
      "metadata": {
        "colab": {
          "base_uri": "https://localhost:8080/"
        },
        "id": "7J0nVmgKC5v_",
        "outputId": "fa3f2d71-1ef8-43da-9444-e600a5f1b6f6"
      },
      "execution_count": 8,
      "outputs": [
        {
          "output_type": "stream",
          "name": "stdout",
          "text": [
            "Ingrese la palabra que desee: holi\n",
            "['h', 'o', 'l', 'i']\n"
          ]
        }
      ]
    },
    {
      "cell_type": "code",
      "source": [
        "lista1=[2,7,10,9,8]\n",
        "lista2=[elementos**2 for elementos in lista1 if elementos%2==0]\n",
        "print(\"nueva lista\", lista2)"
      ],
      "metadata": {
        "colab": {
          "base_uri": "https://localhost:8080/"
        },
        "id": "SFitSQxrD30E",
        "outputId": "f7bbd452-1316-4669-8b3f-f427ada4e5a8"
      },
      "execution_count": 10,
      "outputs": [
        {
          "output_type": "stream",
          "name": "stdout",
          "text": [
            "nueva lista [4, 100, 64]\n"
          ]
        }
      ]
    },
    {
      "cell_type": "code",
      "source": [
        "import random \n",
        "\n",
        "capitan=[random.randrange(1,30) for i in range(9)]\n",
        "#randrange:rango donde se va a generar la lista\n",
        "print(\"Imprimir números aleatorios de la lista: \" ,str(capitan))\n"
      ],
      "metadata": {
        "colab": {
          "base_uri": "https://localhost:8080/"
        },
        "id": "xkVlWa8pD4Qb",
        "outputId": "806cafc0-ae4d-4979-8ae2-7b1f935e10c8"
      },
      "execution_count": 11,
      "outputs": [
        {
          "output_type": "stream",
          "name": "stdout",
          "text": [
            "Imprimir números aleatorios de la lista:  [28, 2, 27, 22, 22, 6, 28, 19, 20]\n"
          ]
        }
      ]
    },
    {
      "cell_type": "code",
      "source": [
        "precios=[]\n",
        "print(\"ingrese los números de los que quieres hacer un descuento\")\n",
        "det=True\n",
        "while det:\n",
        "  num=int(input(\"si no desea agregar más números digite 0\"))\n",
        "  precios.append(num)\n",
        "  det=False if num==0 else num>0\n",
        "des=float(input(print(\"ingrese el descuento sin el %\")))\n",
        "presdes=[precio*des/100 for precio in precios]\n",
        "presdes.pop(-1)\n",
        "print(\"  este es el valor que le debes restar a cada número \" ,presdes)"
      ],
      "metadata": {
        "colab": {
          "base_uri": "https://localhost:8080/"
        },
        "id": "0MkRZicIFq5A",
        "outputId": "32b4397b-6e31-4475-a475-2924ecf86951"
      },
      "execution_count": 16,
      "outputs": [
        {
          "output_type": "stream",
          "name": "stdout",
          "text": [
            "ingrese los números de los que quieres hacer un descuento\n",
            "si no desea agregar m´´as números digite 00\n",
            "ingrese el descuento sin el %\n",
            "None40\n",
            "  este es el valor que le debes restar a cada número  []\n"
          ]
        }
      ]
    }
  ]
}