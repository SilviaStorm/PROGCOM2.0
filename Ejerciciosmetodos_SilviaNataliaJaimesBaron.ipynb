{
  "nbformat": 4,
  "nbformat_minor": 0,
  "metadata": {
    "colab": {
      "provenance": [],
      "collapsed_sections": []
    },
    "kernelspec": {
      "name": "python3",
      "display_name": "Python 3"
    },
    "language_info": {
      "name": "python"
    }
  },
  "cells": [
    {
      "cell_type": "markdown",
      "source": [
        "#Silvia Natalia Jaimes Barón/ Ejercicios métodos"
      ],
      "metadata": {
        "id": "JPls_E6wqHo4"
      }
    },
    {
      "cell_type": "markdown",
      "source": [
        "Ejercicio #1"
      ],
      "metadata": {
        "id": "u4fsoH55qDyg"
      }
    },
    {
      "cell_type": "code",
      "execution_count": 4,
      "metadata": {
        "id": "UbE36uiAlXh0"
      },
      "outputs": [],
      "source": [
        "def npc(a,b):\n",
        "  if a>b:\n",
        "    return a\n",
        "  return b"
      ]
    },
    {
      "cell_type": "code",
      "source": [
        "def npc(a,b):\n",
        "  if a>b:\n",
        "    print(f\" {a} es el mayor\")\n",
        "  else:\n",
        "    print(b, \"es el mayor\")"
      ],
      "metadata": {
        "id": "k1ReXUI0ojav"
      },
      "execution_count": 8,
      "outputs": []
    },
    {
      "cell_type": "code",
      "source": [
        "print(npc(4,5))\n"
      ],
      "metadata": {
        "colab": {
          "base_uri": "https://localhost:8080/"
        },
        "id": "wTtebGpDnUUP",
        "outputId": "8270ec16-3af9-4ad9-8c77-f8f8c090e2f4"
      },
      "execution_count": 9,
      "outputs": [
        {
          "output_type": "stream",
          "name": "stdout",
          "text": [
            "5 es el mayor\n",
            "None\n"
          ]
        }
      ]
    },
    {
      "cell_type": "code",
      "source": [
        "def mayor(x,y,z):\n",
        "  npc(x,npc(y,z))"
      ],
      "metadata": {
        "id": "0osVsxy2oLL3"
      },
      "execution_count": 10,
      "outputs": []
    },
    {
      "cell_type": "code",
      "source": [
        "print()"
      ],
      "metadata": {
        "id": "cDPiyHU_oXMn"
      },
      "execution_count": null,
      "outputs": []
    },
    {
      "cell_type": "markdown",
      "source": [
        "Ejercicio #2"
      ],
      "metadata": {
        "id": "Yz0DS9JFqkDl"
      }
    },
    {
      "cell_type": "code",
      "source": [
        "def npc(a,b,c):\n",
        "  if a>b and a>c:\n",
        "    print(f\" {a} es el mayor\")\n",
        "  elif b>c and b>a:\n",
        "    print(f\" {b} es el mayor\")\n",
        "  else:\n",
        "    print(c, \"es el mayor\")"
      ],
      "metadata": {
        "id": "v7heiuNwqQq2"
      },
      "execution_count": 11,
      "outputs": []
    },
    {
      "cell_type": "code",
      "source": [
        "print(npc(10,5,8))"
      ],
      "metadata": {
        "colab": {
          "base_uri": "https://localhost:8080/"
        },
        "id": "EiifW5x3qpKE",
        "outputId": "5234a8f9-58b1-4fbf-d035-2b59a680ed71"
      },
      "execution_count": 13,
      "outputs": [
        {
          "output_type": "stream",
          "name": "stdout",
          "text": [
            " 10 es el mayor\n",
            "None\n"
          ]
        }
      ]
    },
    {
      "cell_type": "markdown",
      "source": [
        "Ejercicio #3"
      ],
      "metadata": {
        "id": "BdyU71scrWEH"
      }
    },
    {
      "cell_type": "code",
      "source": [
        "def op():\n",
        "    x=0\n",
        "    lista=[5,4,3]\n",
        "    for n in lista:\n",
        "        x=x+n\n",
        "    return print(x)\n",
        "op()"
      ],
      "metadata": {
        "colab": {
          "base_uri": "https://localhost:8080/"
        },
        "id": "_YvvTFicrYh9",
        "outputId": "7178aa03-79ac-45e2-82e1-b2a65169fb4e"
      },
      "execution_count": 21,
      "outputs": [
        {
          "output_type": "stream",
          "name": "stdout",
          "text": [
            "12\n"
          ]
        }
      ]
    },
    {
      "cell_type": "markdown",
      "source": [
        "Ejercicio #4"
      ],
      "metadata": {
        "id": "c2_ZdqagsBt_"
      }
    },
    {
      "cell_type": "code",
      "source": [
        "def op():\n",
        "    x=0\n",
        "    lista=[5,4,3,6]\n",
        "    for n in lista:\n",
        "        x=x+n\n",
        "    return print(x)\n",
        "op()"
      ],
      "metadata": {
        "colab": {
          "base_uri": "https://localhost:8080/"
        },
        "id": "nGnBKESYsGB4",
        "outputId": "06dd8294-c504-4c43-8cb8-c2f26dc41058"
      },
      "execution_count": 22,
      "outputs": [
        {
          "output_type": "stream",
          "name": "stdout",
          "text": [
            "18\n"
          ]
        }
      ]
    },
    {
      "cell_type": "markdown",
      "source": [
        "Ejercicios #5"
      ],
      "metadata": {
        "id": "ecUaEmcQ1zK9"
      }
    },
    {
      "cell_type": "code",
      "source": [
        "def op():\n",
        "    x=0\n",
        "    lista=[5,4,3,2,5,4,3]\n",
        "    for n in lista:\n",
        "        x=x+n\n",
        "    return print(x)\n",
        "op()"
      ],
      "metadata": {
        "colab": {
          "base_uri": "https://localhost:8080/"
        },
        "id": "atW8FRFO1zpF",
        "outputId": "814c425e-9b37-4ea2-8d85-92eda3ca3cfd"
      },
      "execution_count": 24,
      "outputs": [
        {
          "output_type": "stream",
          "name": "stdout",
          "text": [
            "26\n"
          ]
        }
      ]
    },
    {
      "cell_type": "markdown",
      "source": [
        "Ejercicios #6"
      ],
      "metadata": {
        "id": "vhfJTdYW41q2"
      }
    },
    {
      "cell_type": "code",
      "source": [
        "def op():\n",
        "    x=1\n",
        "    lista=[5,4,3]\n",
        "    for n in lista:\n",
        "        x=n*x\n",
        "    return print(x)\n",
        "op()"
      ],
      "metadata": {
        "colab": {
          "base_uri": "https://localhost:8080/"
        },
        "id": "JUmsSRfu41_4",
        "outputId": "a186b2ba-4f9d-4b09-9efc-797d5e49c413"
      },
      "execution_count": 29,
      "outputs": [
        {
          "output_type": "stream",
          "name": "stdout",
          "text": [
            "60\n"
          ]
        }
      ]
    },
    {
      "cell_type": "markdown",
      "source": [
        "Ejercicios #7"
      ],
      "metadata": {
        "id": "oOecIa9Q693M"
      }
    },
    {
      "cell_type": "code",
      "source": [
        "def op():\n",
        "    x=1\n",
        "    lista=[5,4,3,50]\n",
        "    for n in lista:\n",
        "        x=n*x\n",
        "    return print(x)\n",
        "op()"
      ],
      "metadata": {
        "colab": {
          "base_uri": "https://localhost:8080/"
        },
        "id": "jjxB2Gqo7AZr",
        "outputId": "b89bd295-2fb7-4a3c-be6a-ed600682fc8a"
      },
      "execution_count": 30,
      "outputs": [
        {
          "output_type": "stream",
          "name": "stdout",
          "text": [
            "3000\n"
          ]
        }
      ]
    },
    {
      "cell_type": "markdown",
      "source": [
        "Ejercicios #8"
      ],
      "metadata": {
        "id": "npJ82dpS7ExD"
      }
    },
    {
      "cell_type": "code",
      "source": [
        "def op():\n",
        "    x=1\n",
        "    lista=[5,4,3,50,100,-1]\n",
        "    for n in lista:\n",
        "        x=n*x\n",
        "    return print(x)\n",
        "op()"
      ],
      "metadata": {
        "colab": {
          "base_uri": "https://localhost:8080/"
        },
        "id": "hrH_V9je7G0N",
        "outputId": "0427027b-57aa-4e4f-c4ca-7d482a01b791"
      },
      "execution_count": 32,
      "outputs": [
        {
          "output_type": "stream",
          "name": "stdout",
          "text": [
            "-300000\n"
          ]
        }
      ]
    },
    {
      "cell_type": "markdown",
      "source": [
        "Ejercicios #9\n"
      ],
      "metadata": {
        "id": "S1ZgZfMV7Z8y"
      }
    },
    {
      "cell_type": "code",
      "source": [
        "def invertir_cadena_manual(cadena): \n",
        "    cadena_invertida = \"\" \n",
        "    for letra in cadena: \n",
        "        cadena_invertida = letra + cadena_invertida \n",
        "    return cadena_invertida \n",
        " \n",
        " \n",
        "print(invertir_cadena_manual(\"Voy a pasar Cálculo\")) "
      ],
      "metadata": {
        "colab": {
          "base_uri": "https://localhost:8080/"
        },
        "id": "BDhX29tD7ae2",
        "outputId": "64428277-747f-4d02-f23e-f5893311a52e"
      },
      "execution_count": 37,
      "outputs": [
        {
          "output_type": "stream",
          "name": "stdout",
          "text": [
            "olucláC rasap a yoV\n"
          ]
        }
      ]
    },
    {
      "cell_type": "markdown",
      "source": [
        "Ejericio 10"
      ],
      "metadata": {
        "id": "oy4GKpHz_qLn"
      }
    },
    {
      "cell_type": "code",
      "source": [
        "def factorial(u): \n",
        "    if u <= 0: \n",
        "        return 1 \n",
        "    factorial = 1 \n",
        "    while u > 0: \n",
        "        factorial = factorial * u\n",
        "        u -= 1 \n",
        "    return factorial \n",
        "v = 8\n",
        "f = factorial(v) \n",
        "print(f\"El factorial de {v} es {f}\")"
      ],
      "metadata": {
        "colab": {
          "base_uri": "https://localhost:8080/"
        },
        "id": "pZKncvGT_rmX",
        "outputId": "49237214-694b-47ce-c31e-b2eceedcbfae"
      },
      "execution_count": 39,
      "outputs": [
        {
          "output_type": "stream",
          "name": "stdout",
          "text": [
            "El factorial de 8 es 40320\n"
          ]
        }
      ]
    },
    {
      "cell_type": "markdown",
      "source": [
        "Ejercicio 11"
      ],
      "metadata": {
        "id": "BUrMz-HLzh0M"
      }
    },
    {
      "cell_type": "code",
      "source": [
        "def npc(a,b):\n",
        "  if a>b:\n",
        "    r=a-b\n",
        "    print(f\" {r} es el rango\")\n",
        "  else:\n",
        "    r=b-a\n",
        "    print(r, \"es el rango\")  \n"
      ],
      "metadata": {
        "id": "h-PlNxBrziOs"
      },
      "execution_count": 15,
      "outputs": []
    },
    {
      "cell_type": "code",
      "source": [
        "print(npc(3,10))"
      ],
      "metadata": {
        "colab": {
          "base_uri": "https://localhost:8080/"
        },
        "id": "924TC-bpzi7M",
        "outputId": "b27ec21e-d64e-420b-d160-648608e69993"
      },
      "execution_count": 17,
      "outputs": [
        {
          "output_type": "stream",
          "name": "stdout",
          "text": [
            "7 es el rango\n",
            "None\n"
          ]
        }
      ]
    },
    {
      "cell_type": "markdown",
      "source": [
        "Ejercicio #14"
      ],
      "metadata": {
        "id": "K0gpCScj8HKK"
      }
    },
    {
      "cell_type": "code",
      "source": [
        "def op():\n",
        "    x=1\n",
        "    lista=[5,4,3,50]\n",
        "    for n in lista:\n",
        "        if n == n:\n",
        "          \n",
        "    return print(x)\n",
        "op()"
      ],
      "metadata": {
        "id": "nxETcxRp8Hti"
      },
      "execution_count": null,
      "outputs": []
    },
    {
      "cell_type": "markdown",
      "source": [
        "Ejercicio #16"
      ],
      "metadata": {
        "id": "u8roXSnQ9vH8"
      }
    },
    {
      "cell_type": "code",
      "source": [
        "ent=int(input())\n",
        "\n",
        "def perfect():\n",
        "\n",
        "  for i in range(2, ent):\n",
        "     b=0\n",
        "     for j in range(1, (i//2)+1):\n",
        "         if((i%j)==0):\n",
        "             b= b+j;\n",
        "     if(b==i):\n",
        "         print(\"perfecto\")\n",
        "  else:\n",
        "     print(\"no perfecto\")"
      ],
      "metadata": {
        "colab": {
          "base_uri": "https://localhost:8080/"
        },
        "id": "R_yzgqbj9vdb",
        "outputId": "8c7903ad-ede9-4509-b16a-3563b7462191"
      },
      "execution_count": 35,
      "outputs": [
        {
          "name": "stdout",
          "output_type": "stream",
          "text": [
            "6\n"
          ]
        }
      ]
    },
    {
      "cell_type": "markdown",
      "source": [
        "Ejercicio #17"
      ],
      "metadata": {
        "id": "JStgLR5NyxLW"
      }
    },
    {
      "cell_type": "code",
      "source": [
        "user1=str(input(\"Ingrese una palabra: \"))\n",
        "user1=user1.lower()\n",
        "val1=list(user1)\n",
        "val2=val1\n",
        "val2.reverse()\n",
        "def prueba ():\n",
        "    val1=list(user1)\n",
        "    for i in range(0,len(val1)):\n",
        "        counter=0\n",
        "        for j in range(0,len(val1)):\n",
        "            if val1[i] == val2[i]:\n",
        "                counter+=1\n",
        "            else:\n",
        "                counter=counter\n",
        "    if counter==len(val1):\n",
        "        print(\"La palabra es un palíndromo\")\n",
        "    else:\n",
        "        print(\"La palabra no es un palíndromo\")\n",
        "            \n",
        "        return;\n",
        "prueba();"
      ],
      "metadata": {
        "colab": {
          "base_uri": "https://localhost:8080/"
        },
        "id": "1IZFOTboyzLm",
        "outputId": "266708af-514a-4bf6-8958-82673f9d1f33"
      },
      "execution_count": 28,
      "outputs": [
        {
          "output_type": "stream",
          "name": "stdout",
          "text": [
            "Ingrese una palabra: Ana\n",
            "La palabra es un palindromo\n"
          ]
        }
      ]
    }
  ]
}