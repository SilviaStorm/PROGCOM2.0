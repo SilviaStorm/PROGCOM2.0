{
  "nbformat": 4,
  "nbformat_minor": 0,
  "metadata": {
    "colab": {
      "provenance": [],
      "collapsed_sections": []
    },
    "kernelspec": {
      "name": "python3",
      "display_name": "Python 3"
    },
    "language_info": {
      "name": "python"
    }
  },
  "cells": [
    {
      "cell_type": "markdown",
      "source": [
        "#POO o programación orientada a objetos\n",
        "\n",
        "Clase es como un molde\n",
        "\n",
        "*   Variables > atributos\n",
        "*   Funciones > métodos\n",
        "\n",
        "\n",
        "*   Constructor > sustituye una clase\n",
        "*   Objetos: comparten atributos, métodos, relaciones que tienen una identidad propia\n",
        "\n",
        "\n",
        "\n"
      ],
      "metadata": {
        "id": "platuBihDgN2"
      }
    },
    {
      "cell_type": "code",
      "source": [
        "class Empleado():\n",
        "  pass #Pass:Dice, no ejecute el resto del codigo\n",
        "  #Todo debe tener un construtor!!! "
      ],
      "metadata": {
        "id": "Bld17PAYE0PW"
      },
      "execution_count": null,
      "outputs": []
    },
    {
      "cell_type": "code",
      "source": [
        "class Mascota():\n",
        "  pass"
      ],
      "metadata": {
        "id": "5UFx68WuG143"
      },
      "execution_count": 6,
      "outputs": []
    },
    {
      "cell_type": "code",
      "source": [
        "a=Mascota \n",
        "b=Mascota\n",
        "#a y b es el objeto \n",
        "#Mascota es la clase\n",
        "\n"
      ],
      "metadata": {
        "id": "9uFREKz3FFdD"
      },
      "execution_count": 7,
      "outputs": []
    },
    {
      "cell_type": "code",
      "source": [
        "if a==b:\n",
        "  print(\"Son iguanitos\")\n",
        "else:\n",
        "  print(\"No son iguanitos\")\n",
        "##Son iguales pq no les he hecho nada que los diferencie"
      ],
      "metadata": {
        "colab": {
          "base_uri": "https://localhost:8080/"
        },
        "id": "v5ChbZ5SGeeH",
        "outputId": "072f601f-b1fd-4291-d304-463c6e3da8c4"
      },
      "execution_count": 8,
      "outputs": [
        {
          "output_type": "stream",
          "name": "stdout",
          "text": [
            "Son iguanitos\n"
          ]
        }
      ]
    },
    {
      "cell_type": "code",
      "source": [
        "class Empleado():\n",
        "  #Construyendo un constructor\n",
        "  def __init__(self,nombre, edad,ID,salario):\n",
        "    self.nombre=nombre \n",
        "    self.edad=edad\n",
        "    self.ID=ID\n",
        "    self.salario=salario\n",
        "\n",
        "  def __repr__(self):\n",
        "    return f\"nombre:{self.nombre}, edad:{self.edad}, ID:{self.ID}, salario:{self.salario}\""
      ],
      "metadata": {
        "id": "Mv6tX3aqHCA3"
      },
      "execution_count": 22,
      "outputs": []
    },
    {
      "cell_type": "code",
      "source": [
        "sonia=Empleado(\"Sonia\",25,\"U000157843\", 10000000)"
      ],
      "metadata": {
        "id": "0n8eeBxPHs2X"
      },
      "execution_count": 18,
      "outputs": []
    },
    {
      "cell_type": "code",
      "source": [
        "print(sonia)"
      ],
      "metadata": {
        "colab": {
          "base_uri": "https://localhost:8080/"
        },
        "id": "hBDaxxkrIWM3",
        "outputId": "81f38893-281d-4324-afb2-7a0c6580e8a7"
      },
      "execution_count": 19,
      "outputs": [
        {
          "output_type": "stream",
          "name": "stdout",
          "text": [
            "nombre:Sonia, edad:25, ID:U000157843, salario:10000000\n"
          ]
        }
      ]
    },
    {
      "cell_type": "code",
      "source": [
        "sonia.nombre"
      ],
      "metadata": {
        "colab": {
          "base_uri": "https://localhost:8080/",
          "height": 35
        },
        "id": "vbar1R4fIcJ3",
        "outputId": "e9125e69-f65d-49e0-fe5e-5df375b2d15b"
      },
      "execution_count": 20,
      "outputs": [
        {
          "output_type": "execute_result",
          "data": {
            "text/plain": [
              "'Sonia'"
            ],
            "application/vnd.google.colaboratory.intrinsic+json": {
              "type": "string"
            }
          },
          "metadata": {},
          "execution_count": 20
        }
      ]
    },
    {
      "cell_type": "code",
      "source": [
        "madaniel=Empleado(\"Pirulais\",83,\"U00157944\",1000000)"
      ],
      "metadata": {
        "id": "YX1ylBrpN6t9"
      },
      "execution_count": 25,
      "outputs": []
    },
    {
      "cell_type": "code",
      "source": [
        "if sonia.salario==madaniel.salario:\n",
        "  print(f\"El salario de {madaniel.nombre} y {sonia.nombre} son iguales\")\n",
        "elif sonia.salario>madaniel.salario:\n",
        "  print(f\"El salario de {madaniel.nombre} es menor al de {sonia.nombre}\")\n",
        "else:\n",
        "  print(f\"El salrio de {madaniel.nombre} es mayor al de {sonia.nombre}\")"
      ],
      "metadata": {
        "colab": {
          "base_uri": "https://localhost:8080/"
        },
        "id": "nPyldT3nOU_T",
        "outputId": "4daf3f5b-78df-45f3-9577-e650b952fb2f"
      },
      "execution_count": 26,
      "outputs": [
        {
          "output_type": "stream",
          "name": "stdout",
          "text": [
            "El salario de Pirulais es menor al de Sonia\n"
          ]
        }
      ]
    },
    {
      "cell_type": "code",
      "source": [
        "class Fraccion():\n",
        "  num=0\n",
        "  den=1\n",
        "\n",
        "#Creando el constructor\n",
        "  def __init__(self,num=0,den=1):\n",
        "   self.num=num\n",
        "   self.dem=den\n",
        "\n",
        "  def multiplica(self,b):\n",
        "   num=self.num*b.num\n",
        "   den=self.den*b.den\n",
        "   r=Fraccion(num,den)\n",
        "   return r\n",
        "\n",
        "  def imprime(self):\n",
        "   print(self.num,\"/\",self.den)\n"
      ],
      "metadata": {
        "id": "IyFLgbZrQkRw"
      },
      "execution_count": 50,
      "outputs": []
    },
    {
      "cell_type": "code",
      "source": [
        "#Creando objetos tipo Fracción\n",
        "\n",
        "a1=Fraccion(4,5)\n",
        "a2=Fraccion(8,9)"
      ],
      "metadata": {
        "id": "eZ-mIwyYR6cx"
      },
      "execution_count": 51,
      "outputs": []
    },
    {
      "cell_type": "code",
      "source": [
        "type (a1)"
      ],
      "metadata": {
        "colab": {
          "base_uri": "https://localhost:8080/"
        },
        "id": "s0k4Xk_4VwZ7",
        "outputId": "6d9d0da0-903a-44d3-bd17-f5c4d8b8aaa2"
      },
      "execution_count": 47,
      "outputs": [
        {
          "output_type": "execute_result",
          "data": {
            "text/plain": [
              "__main__.Fraccion"
            ]
          },
          "metadata": {},
          "execution_count": 47
        }
      ]
    },
    {
      "cell_type": "code",
      "source": [
        "a1.imprime()\n",
        "a2.imprime()"
      ],
      "metadata": {
        "colab": {
          "base_uri": "https://localhost:8080/"
        },
        "id": "lrlacKRsSK5A",
        "outputId": "c80c5925-034d-47cc-f73e-1f902f944ad1"
      },
      "execution_count": 48,
      "outputs": [
        {
          "output_type": "stream",
          "name": "stdout",
          "text": [
            "4 / 1\n",
            "8 / 1\n"
          ]
        }
      ]
    },
    {
      "cell_type": "code",
      "source": [
        "c=a1.multiplica(a2)\n",
        "c.imprime()"
      ],
      "metadata": {
        "colab": {
          "base_uri": "https://localhost:8080/"
        },
        "id": "wSCCqIfYUiGU",
        "outputId": "ff2b2ba1-a582-476d-92a1-e505c91fc35e"
      },
      "execution_count": 53,
      "outputs": [
        {
          "output_type": "stream",
          "name": "stdout",
          "text": [
            "32 / 1\n"
          ]
        }
      ]
    },
    {
      "cell_type": "markdown",
      "source": [
        "#TAREA: METODOS ESPECIALES PARA CLASES"
      ],
      "metadata": {
        "id": "Ob5yXw9BJyAB"
      }
    },
    {
      "cell_type": "code",
      "source": [
        "sonia.__dict__"
      ],
      "metadata": {
        "colab": {
          "base_uri": "https://localhost:8080/"
        },
        "id": "TZxUmG4mIhEw",
        "outputId": "87fb28da-550e-4ac3-b5cf-ec3207e7287a"
      },
      "execution_count": 33,
      "outputs": [
        {
          "output_type": "execute_result",
          "data": {
            "text/plain": [
              "{'nombre': 'Sonia', 'edad': 25, 'ID': 'U000157843', 'salario': 10000000}"
            ]
          },
          "metadata": {},
          "execution_count": 33
        }
      ]
    },
    {
      "cell_type": "markdown",
      "source": [
        "Objeto:Dragon Ball\n",
        "\n",
        "Clase >>> Sayayin\n",
        "\n",
        "Produce: Goku, Veggetta\n",
        "\n",
        "Atributo:Trabajo:uerrera, Fuerza, Color del cabello, velocidad\n",
        "\n",
        ".\n",
        "\n",
        "Clase >>> Humano\n",
        "\n",
        "Produce: Bulma, Mr. Satan, Krillin\n",
        "\n",
        "Atributo:\n",
        "\n",
        ".\n",
        "\n",
        "Lo que comparten, es la herencia"
      ],
      "metadata": {
        "id": "jnixYokDFc1v"
      }
    },
    {
      "cell_type": "code",
      "source": [],
      "metadata": {
        "id": "eUW9gAUWFbJJ"
      },
      "execution_count": null,
      "outputs": []
    },
    {
      "cell_type": "markdown",
      "source": [
        "Dos objetos a pesar de ser de la misma clase son diferentes (Como unsd galletas que hacemos en un molde, las galletas, a pesar de todo serán diferntes)"
      ],
      "metadata": {
        "id": "w29CakYLA859"
      }
    },
    {
      "cell_type": "markdown",
      "source": [
        "Atributos(variables)\n",
        "Metodos(funciones)\n",
        "Relaciones"
      ],
      "metadata": {
        "id": "qsCxlqcIBRuR"
      }
    },
    {
      "cell_type": "markdown",
      "source": [
        "Para generar una clase:\n",
        "\n"
      ],
      "metadata": {
        "id": "_VJtDDaaBc_v"
      }
    },
    {
      "cell_type": "code",
      "source": [
        "class Empleado(): ##Iniciamos con mayuscula\n"
      ],
      "metadata": {
        "id": "m2tHRmNGBcgf"
      },
      "execution_count": null,
      "outputs": []
    },
    {
      "cell_type": "markdown",
      "source": [
        "Todas las clases necesitan un constructor. "
      ],
      "metadata": {
        "id": "aVvH39TKBnU7"
      }
    },
    {
      "cell_type": "code",
      "execution_count": null,
      "metadata": {
        "id": "EkrF1aqO_wdq"
      },
      "outputs": [],
      "source": [
        "__init__"
      ]
    },
    {
      "cell_type": "markdown",
      "source": [
        "Todos inician con self "
      ],
      "metadata": {
        "id": "ty8u5oBwByTp"
      }
    },
    {
      "cell_type": "code",
      "source": [
        "class Empleado():\n",
        "  self __init__ \n",
        "  "
      ],
      "metadata": {
        "id": "R1K41aL3B6Fw"
      },
      "execution_count": null,
      "outputs": []
    },
    {
      "cell_type": "markdown",
      "source": [
        "No puedo mutar un objeto, es mejor crear otro"
      ],
      "metadata": {
        "id": "OG-bqWJ0CIVO"
      }
    }
  ]
}