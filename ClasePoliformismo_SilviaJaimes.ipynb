{
  "nbformat": 4,
  "nbformat_minor": 0,
  "metadata": {
    "colab": {
      "provenance": []
    },
    "kernelspec": {
      "name": "python3",
      "display_name": "Python 3"
    },
    "language_info": {
      "name": "python"
    }
  },
  "cells": [
    {
      "cell_type": "markdown",
      "source": [
        "Metodos: Lo que puede hacer\n",
        "\n",
        "Atribuos: Caracteristicas"
      ],
      "metadata": {
        "id": "LSQWVZBWJUbC"
      }
    },
    {
      "cell_type": "code",
      "execution_count": 5,
      "metadata": {
        "id": "V9eSMoZ1GXtQ"
      },
      "outputs": [],
      "source": [
        "class Sayayin():\n",
        "  def __init__(self, nombre, cabello, ojos, fuerza, estatura,cola_de_mono):\n",
        "    self.nombre=nombre\n",
        "    self.cabello=\"negro\"\n",
        "    self.ojos=\"negro\"\n",
        "    self.fuerza=fuerza ##privado con \"__\"   self.__fuerza=fuerza\n",
        "    self.estatura=estatura\n",
        "    self.cola_de_mono=True\n",
        "\n",
        "\n",
        "def color_cabello(self,fuerza_base):\n",
        "  fuerza_t=9000\n",
        "  if fuerza_base*10 >=fuerza_t:\n",
        "    print(\"Alcanza nivel sayayayin fase 1\")\n",
        "    self.cabello=\"rubio\"\n",
        "  elif fuerza_base*20>=fuerza_t*20:\n",
        "    print(\"Alcanza nivel sayayayin fase 2\")\n",
        "    self.cabello=\"rubio\"\n",
        "  elif fuerza_base*1000>=fuerza_t*1000:\n",
        "    print(\"Alcanza nivel sayayayin fase 4\")\n",
        "    self.cabello=\"negro\"\n",
        "    if self.cola==False:\n",
        "      self.cola=True\n",
        "  else:\n",
        "    print(\"Alcanza nivel sayayin ultrainstinto\")\n",
        "    self.cabello=\"cenizo\"\n",
        "\n",
        "def trabajo(self, trabajo):\n",
        "  if trabajo==1:\n",
        "    print(f\"{self.nombre} es de tipo de guerrero\")\n",
        "  elif trabajo==2:\n",
        "    print(f\"{self.nombre} es de tipo de liendra de freezer\")\n",
        "  elif trabajo==3:\n",
        "    print(f\"{self.nombre} es de tipo mercenarios\")\n",
        "  else:\n",
        "    print(f\"{self.nombre} es de la realeza\")\n",
        "  \n",
        "def luna(self,luna):\n",
        "  if self.cola and luna==\"luna llena\":\n",
        "    print(f\"{self.nombre} se convierte en ozano\")\n",
        "    self.fuerza=self.fuerza*50\n",
        "  else:\n",
        "    print(f\"{self.nombre} no se transforme en na :v\")\n"
      ]
    },
    {
      "cell_type": "code",
      "source": [
        "class Humano():\n",
        "  def __init__(self,nombre,color,cabello, ojos, fuerza):\n",
        "    self.nombre=nombre\n",
        "    self.cabello=cabello\n",
        "    self.ojos=ojos\n",
        "    self.fuerza=fuerza\n",
        "\n",
        "\n",
        "def color_cabello(self,tinte):\n",
        "\n",
        "  if tinte==0:\n",
        "    print(self.nombre, \"Ha decolorado su cabello\")\n",
        "    self.cabello=\"amarillo\"\n",
        "  elif tinte==2:\n",
        "    print(\"Ha decolorado su cabello de lila\")\n",
        "    self.cabello=\"lila\"\n",
        "  elif tinte==3:\n",
        "    print(\"Ha decolorado su cabello canoso\")\n",
        "    self.cabello=\"canoso\"\n",
        "\n",
        "def trabajo(self, trabajo):\n",
        "  if trabajo==1:\n",
        "    print(f\"{self.nombre} trabaja como callcenter\")\n",
        "  elif trabajo==2:\n",
        "    print(f\"{self.nombre} trabaja como vendedor de Bonice\")\n",
        "  elif trabajo==3:\n",
        "    print(f\"{self.nombre} trabaja como tombo\")\n",
        "  elif trabajo==4:\n",
        "    print(f\"{self.nombre} trabaja como programador de Python\")\n",
        "  else:\n",
        "    print(f\"{self.nombre} es nini\")\n",
        "  "
      ],
      "metadata": {
        "id": "KfwTiFpQOpPe"
      },
      "execution_count": 12,
      "outputs": []
    },
    {
      "cell_type": "code",
      "source": [
        "class Hibrido(Sayayin,Humano):\n",
        "  pass"
      ],
      "metadata": {
        "id": "KlLSMrqhSoTs"
      },
      "execution_count": 15,
      "outputs": []
    },
    {
      "cell_type": "code",
      "source": [
        "goku=Sayayin(\"Kakaroto\", \"arcoiris\", \"verde dorado\", 100, 50, True)"
      ],
      "metadata": {
        "id": "1awkPVlsSybL"
      },
      "execution_count": 6,
      "outputs": []
    },
    {
      "cell_type": "code",
      "source": [
        "milk=Humano(\"Milk\",\"Negros\",\"Negro\", 100,50)"
      ],
      "metadata": {
        "id": "qOsZfkCFTMZD"
      },
      "execution_count": 13,
      "outputs": []
    },
    {
      "cell_type": "code",
      "source": [
        "gohan=Hibrido(\"Gohan\", \"negro\", \"aguamarina\", 1000, 50, True)"
      ],
      "metadata": {
        "id": "5R4ePjaNUaHl"
      },
      "execution_count": 16,
      "outputs": []
    },
    {
      "cell_type": "code",
      "source": [],
      "metadata": {
        "id": "9quJTdvkW09S"
      },
      "execution_count": null,
      "outputs": []
    }
  ]
}