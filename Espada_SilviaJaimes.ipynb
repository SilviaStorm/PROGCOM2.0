{
  "nbformat": 4,
  "nbformat_minor": 0,
  "metadata": {
    "colab": {
      "provenance": []
    },
    "kernelspec": {
      "name": "python3",
      "display_name": "Python 3"
    },
    "language_info": {
      "name": "python"
    }
  },
  "cells": [
    {
      "cell_type": "markdown",
      "source": [
        "Elemento\n",
        "\n",
        "Durabilidad\n",
        "\n",
        "Color\n",
        "\n",
        "Tamaño"
      ],
      "metadata": {
        "id": "2UOVarKWFmLW"
      }
    },
    {
      "cell_type": "code",
      "source": [
        "class Espada():\n",
        "  nombre=\"Soy una espada\"\n",
        "  daño=\"Causo daño\"\n",
        "  def __init__(self,nombre,daño):\n",
        "    self.nombre=nombre\n",
        "    self.daño=daño\n",
        "  def __repr__(self):\n",
        "    return f\"espada de:{self.nombre}, y causa:{self.daño} de daño\"\n"
      ],
      "metadata": {
        "id": "XRCW9noaFl7-"
      },
      "execution_count": 8,
      "outputs": []
    },
    {
      "cell_type": "code",
      "source": [
        "class Espada_elemental(Espada): #Clase hija\n",
        "  def masatributos(self,elemento,tamaño,durabilidad,color):\n",
        "    self.elemento=elemento\n",
        "    self.tamaño=tamaño\n",
        "    self.durabilidad=durabilidad\n",
        "    self.color=color\n"
      ],
      "metadata": {
        "id": "bZraIlRtG44E"
      },
      "execution_count": 9,
      "outputs": []
    },
    {
      "cell_type": "code",
      "source": [
        "espada1=Espada_elemental(\"Espada de fuego\", 2000) #Atributos clase madre"
      ],
      "metadata": {
        "id": "hMwiUfNUIwRT"
      },
      "execution_count": 10,
      "outputs": []
    },
    {
      "cell_type": "code",
      "source": [
        "print(espada1)"
      ],
      "metadata": {
        "colab": {
          "base_uri": "https://localhost:8080/"
        },
        "id": "5QW-U9YxJaQB",
        "outputId": "9d388cb4-1d19-4f25-b161-edc7bbd956cd"
      },
      "execution_count": 11,
      "outputs": [
        {
          "output_type": "stream",
          "name": "stdout",
          "text": [
            "espada de:Espada de fuego, y causa:2000 de daño\n"
          ]
        }
      ]
    },
    {
      "cell_type": "code",
      "source": [
        "espada1.masatributos(\"Fuego\",25,100,\"rojo\") #Atributos clase hija"
      ],
      "metadata": {
        "id": "zh92PRE4J7Iw"
      },
      "execution_count": 12,
      "outputs": []
    },
    {
      "cell_type": "code",
      "source": [
        "espada1.__dict__#Nombre y daño heredados de la clase madre"
      ],
      "metadata": {
        "colab": {
          "base_uri": "https://localhost:8080/"
        },
        "id": "hBxSm22AKnfX",
        "outputId": "21cb8076-4180-4292-e1f7-eb0c97358b7e"
      },
      "execution_count": 13,
      "outputs": [
        {
          "output_type": "execute_result",
          "data": {
            "text/plain": [
              "{'nombre': 'Espada de fuego',\n",
              " 'daño': 2000,\n",
              " 'elemento': 'Fuego',\n",
              " 'tamaño': 25,\n",
              " 'durabilidad': 100,\n",
              " 'color': 'rojo'}"
            ]
          },
          "metadata": {},
          "execution_count": 13
        }
      ]
    },
    {
      "cell_type": "markdown",
      "source": [
        "---------------------------------------------------------------------------"
      ],
      "metadata": {
        "id": "MI8dTzryLkyM"
      }
    },
    {
      "cell_type": "code",
      "source": [
        "class humano():\n",
        "  nombre=\"Humano\"\n",
        "  daño=\"Causo poco daño\"\n",
        "  edad=\"1\"\n",
        "  altura=\"50cm\"\n",
        "  cuerpo=\"Estoy gordito\"\n",
        "  cabeza=\"tengo una cabecita linda\"\n",
        "  brazos=\"Tengo 2 brazos\"\n",
        "  piernas=\"Tengo 2 piernas\"\n",
        "  def __init__(self,nombre,daño,edad,altura,cuerpo,cabeza,brazos,piernas):\n",
        "    self.nombre=nombre\n",
        "    self.daño=daño\n",
        "    self.edad=edad\n",
        "    self.altura=altura\n",
        "    self.cuerpo=cuerpo\n",
        "    self.cabeza=cabeza\n",
        "    self.brazos=brazos\n",
        "    self.piernas=piernas\n",
        "  def __repr__(self):\n",
        "    return f\"El humano:{self.nombre}, puede:{self.daño} \"\n",
        "  def respirar():\n",
        "    oxigeno=1000\n",
        "    if oxigeno>500:\n",
        "      print(\"Puedo respirar\")\n",
        "    else:\n",
        "      print(\"Me muerooooo\")"
      ],
      "metadata": {
        "id": "i3pCz6UPZiyC"
      },
      "execution_count": 14,
      "outputs": []
    },
    {
      "cell_type": "code",
      "source": [
        "class Hibrido(humano): #Clase hija\n",
        "  def masatributos(colorcabello,largocabello):\n",
        "    self.colorcabello=colorcabello\n",
        "    self.largocabello=largocabello"
      ],
      "metadata": {
        "id": "3qvI8bQ1ZkgC"
      },
      "execution_count": 15,
      "outputs": []
    },
    {
      "cell_type": "code",
      "source": [
        "humano1=Hibrido(\"Gohan\", 2000, 22, \"2 metros\", \"delgado\", \"alargada\",\"2 brazos robustos\", \"2 piernas fuertes\") #Atributos clase madre"
      ],
      "metadata": {
        "id": "dJPFUHyeZoYq"
      },
      "execution_count": 16,
      "outputs": []
    },
    {
      "cell_type": "code",
      "source": [
        "humano1.__dict__"
      ],
      "metadata": {
        "colab": {
          "base_uri": "https://localhost:8080/"
        },
        "id": "sufb67GTZqli",
        "outputId": "f75020bd-ddbb-4a2f-f260-4975f9204553"
      },
      "execution_count": 17,
      "outputs": [
        {
          "output_type": "execute_result",
          "data": {
            "text/plain": [
              "{'nombre': 'Gohan',\n",
              " 'daño': 2000,\n",
              " 'edad': 22,\n",
              " 'altura': '2 metros',\n",
              " 'cuerpo': 'delgado',\n",
              " 'cabeza': 'alargada',\n",
              " 'brazos': '2 brazos robustos',\n",
              " 'piernas': '2 piernas fuertes'}"
            ]
          },
          "metadata": {},
          "execution_count": 17
        }
      ]
    }
  ]
}