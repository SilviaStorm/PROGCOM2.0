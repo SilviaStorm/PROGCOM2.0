{
  "nbformat": 4,
  "nbformat_minor": 0,
  "metadata": {
    "colab": {
      "provenance": []
    },
    "kernelspec": {
      "name": "python3",
      "display_name": "Python 3"
    },
    "language_info": {
      "name": "python"
    }
  },
  "cells": [
    {
      "cell_type": "code",
      "execution_count": null,
      "metadata": {
        "id": "_t8YqeA_Jm8r"
      },
      "outputs": [],
      "source": [
        "name=[\"Ana\", \"Junita\", \"Carlos\"]\n",
        "years=[17,17,23]\n",
        "\n",
        "sh = {name:years for (name,years) in zip(name,years)}\n",
        "\n",
        "print(sh)\n",
        "\n",
        "b=\"Los hermanxs son trillizos\" if (years [0]==years[1] and years [0]==years [2]) else \"\"\n",
        "c=\"Los hermanxs son gemelos\" if (years [0]==years [1] or years [0]==years [2] or years [1]==years [2]) else\"\"\n",
        "\n",
        "print(b,c)"
      ]
    }
  ]
}